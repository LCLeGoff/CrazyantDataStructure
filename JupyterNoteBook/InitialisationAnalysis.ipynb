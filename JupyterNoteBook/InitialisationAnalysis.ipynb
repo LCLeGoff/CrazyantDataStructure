{
 "cells": [
  {
   "cell_type": "markdown",
   "metadata": {
    "collapsed": true
   },
   "source": [
    "# Initialisation analysis\n",
    "\n",
    "Create definition file\n"
   ]
  },
  {
   "cell_type": "markdown",
   "metadata": {
    "collapsed": true
   },
   "source": []
  },
  {
   "cell_type": "code",
   "execution_count": 2,
   "metadata": {},
   "outputs": [],
   "source": [
    "from AnalyseStarter import AnalyseStarter\n",
    "\n",
    "root = '/data/Dropbox/POSTDOC/CrazyAnt/Results_python/Data/'\n",
    "group = 'FMAB'\n",
    "for group in ['FMAB', 'FMABU']:\n",
    "\tAnalyseStarter(root, group).start()\n"
   ]
  },
  {
   "cell_type": "code",
   "execution_count": 3,
   "metadata": {},
   "outputs": [
    {
     "name": "stderr",
     "output_type": "stream",
     "text": [
      "/home/legoff/python3.5_venv/lib/python3.5/site-packages/numpy/lib/arraysetops.py:472: FutureWarning: elementwise comparison failed; returning scalar instead, but in the future will perform elementwise comparison\n  mask |= (ar1 == a)\n"
     ]
    }
   ],
   "source": [
    "from AnalyseClasses.AnalyseMarkings import AnalyseMarkings\n",
    "from AnalyseClasses.AnalyseTrajectory import AnalyseTrajectory\n",
    "\n",
    "root = '/data/Dropbox/POSTDOC/CrazyAnt/Results_python/Data/'\n",
    "for group in ['FMAB', 'FMABU']:\n",
    "\ttraj = AnalyseTrajectory(root, group)\n",
    "\ttraj.centered_x_y()"
   ]
  }
 ],
 "metadata": {
  "kernelspec": {
   "display_name": "Python 2",
   "language": "python",
   "name": "python2"
  },
  "language_info": {
   "codemirror_mode": {
    "name": "ipython",
    "version": 2
   },
   "file_extension": ".py",
   "mimetype": "text/x-python",
   "name": "python",
   "nbconvert_exporter": "python",
   "pygments_lexer": "ipython2",
   "version": "2.7.6"
  }
 },
 "nbformat": 4,
 "nbformat_minor": 0
}
